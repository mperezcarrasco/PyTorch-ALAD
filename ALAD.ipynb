{
 "cells": [
  {
   "cell_type": "code",
   "execution_count": 1,
   "metadata": {},
   "outputs": [],
   "source": [
    "import numpy as np\n",
    "import torch\n",
    "\n",
    "from train import ALADTrainer\n",
    "from preprocess import get_svhn"
   ]
  },
  {
   "cell_type": "code",
   "execution_count": 2,
   "metadata": {},
   "outputs": [
    {
     "name": "stdout",
     "output_type": "stream",
     "text": [
      "Using downloaded and verified file: ./data/svhn/train_32x32.mat\n"
     ]
    }
   ],
   "source": [
    "class Args:\n",
    "    num_epochs=100\n",
    "    lr=0.0002\n",
    "    latent_dim=100\n",
    "    normal_class=1\n",
    "    batch_size=32\n",
    "    pretrained=False\n",
    "    spec_norm=False\n",
    "    \n",
    "    \n",
    "args = Args()\n",
    "device = torch.device('cuda' if torch.cuda.is_available() else 'cpu')\n",
    "data = get_svhn(args)\n",
    "\n",
    "alad = ALADTrainer(args, data, device)"
   ]
  },
  {
   "cell_type": "code",
   "execution_count": null,
   "metadata": {},
   "outputs": [
    {
     "name": "stdout",
     "output_type": "stream",
     "text": [
      "11088/11088: [===============================>] - ETA 0.4sss\n",
      "Training... Epoch: 0, Discrimiantor Loss: 1.982, Generator Loss: 21.107\n",
      "10560/11088: [==============================>.] - ETA 1.2ss"
     ]
    }
   ],
   "source": [
    "alad.train()"
   ]
  },
  {
   "cell_type": "code",
   "execution_count": null,
   "metadata": {},
   "outputs": [],
   "source": [
    "import torch\n",
    "\n",
    "from torch.autograd import Variable\n",
    "\n",
    "def eval(model):\n",
    "    labels = []\n",
    "    scores = []\n",
    "\n",
    "    model.G.eval()\n",
    "    model.Dxx.eval()\n",
    "    model.E.eval()\n",
    "\n",
    "    with torch.no_grad():\n",
    "        for img, label in data[1]:\n",
    "            img = img.float().to(device)\n",
    "            _, feature_real = model.Dxx(img, img)\n",
    "            _, feature_gen = model.Dxx(img, model.G(model.E(img)))\n",
    "            score = torch.sum(torch.abs(feature_real - feature_gen), dim=1)\n",
    "            scores.append(score.cpu())\n",
    "            labels.append(label.cpu())\n",
    "    scores = torch.cat(scores, dim=0)\n",
    "    labels = torch.cat(labels, dim=0)\n",
    "    return labels, scores"
   ]
  },
  {
   "cell_type": "code",
   "execution_count": null,
   "metadata": {},
   "outputs": [],
   "source": [
    "labels, scores = eval(alad)"
   ]
  },
  {
   "cell_type": "code",
   "execution_count": null,
   "metadata": {},
   "outputs": [],
   "source": [
    "from sklearn.metrics import precision_recall_curve, roc_auc_score, auc\n",
    "\n",
    "precision, recall, thresholds = precision_recall_curve(labels, scores)\n",
    "\n",
    "print('ROC AUC score: {:.2f}'.format(roc_auc_score(labels, scores)*100))"
   ]
  },
  {
   "cell_type": "code",
   "execution_count": null,
   "metadata": {},
   "outputs": [],
   "source": [
    "import matplotlib.pyplot as plt\n",
    "\n",
    "plt.hist(scores[labels==0], color='r', alpha = 0.3)\n",
    "plt.hist(scores[labels==1], color='b', alpha=0.3)\n",
    "plt.show()"
   ]
  },
  {
   "cell_type": "code",
   "execution_count": null,
   "metadata": {},
   "outputs": [],
   "source": []
  }
 ],
 "metadata": {
  "kernelspec": {
   "display_name": "Python 3",
   "language": "python",
   "name": "python3"
  },
  "language_info": {
   "codemirror_mode": {
    "name": "ipython",
    "version": 3
   },
   "file_extension": ".py",
   "mimetype": "text/x-python",
   "name": "python",
   "nbconvert_exporter": "python",
   "pygments_lexer": "ipython3",
   "version": "3.6.5"
  }
 },
 "nbformat": 4,
 "nbformat_minor": 2
}
